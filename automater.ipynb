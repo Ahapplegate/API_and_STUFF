{
 "cells": [
  {
   "cell_type": "code",
   "execution_count": 3,
   "id": "701bcabc",
   "metadata": {},
   "outputs": [],
   "source": [
    "#concise single run version\n",
    "import pandas as pd\n",
    "import numpy as np\n",
    "import requests #used to perform gets\n",
    "import json #we are storing intially the files as JSON from our gets\n",
    "import string\n",
    "import random\n",
    "import boto3 as b3\n",
    "import sys\n",
    "\n",
    "def insert_names(arr):\n",
    "    insert_string = ''\n",
    "    url_multiple_names = 'https://api.nationalize.io?'\n",
    "    for name in arr:\n",
    "        insert_string = insert_string + 'name[]=' + name + '&'\n",
    "    insert_string = insert_string[:-1]\n",
    "    new_url = url_multiple_names + insert_string\n",
    "    return new_url\n",
    "\n",
    "def get_json(arr_1):\n",
    "    names_1    = insert_names(arr_1)\n",
    "    names_url  = insert_names(names_1)\n",
    "    response_1 = requests.get(names_url)\n",
    "    data_1 = response_1.json()\n",
    "    return data_1\n",
    "    \n",
    "def fix_df_country(df):\n",
    "    data_1 = get_json(df)\n",
    "    new_list_all_data = []\n",
    "    data_1 = pd.DataFrame(data_1)\n",
    "    #iterate through every spot\n",
    "    for i in range(len(data_1)):\n",
    "        i = i + 0\n",
    "        for spot in data_1.iloc[i]['country']:\n",
    "            for blank in data_1.iloc[i]['country']:\n",
    "                spot_country = blank['country_id']\n",
    "                spot_prop    = blank['probability']\n",
    "                new_list_all_data.append([data_1.iloc[i]['name'], spot_country, spot_prop])\n",
    "    clean_df = pd.DataFrame(new_list_all_data)\n",
    "    return clean_df\n",
    "\n",
    "def id_generator(size=10, chars=string.ascii_uppercase + string.digits):\n",
    "    return ''.join(random.choice(chars) for _ in range(size))\n",
    "\n",
    "def csver(names):\n",
    "    names_df = fix_df_country(names)\n",
    "    names_df.to_csv('spotname')"
   ]
  },
  {
   "cell_type": "code",
   "execution_count": 7,
   "id": "f96a65f9",
   "metadata": {},
   "outputs": [
    {
     "name": "stdout",
     "output_type": "stream",
     "text": [
      "Requirement already satisfied: pyodbc in c:\\users\\ahapp\\anaconda3\\lib\\site-packages (4.0.0-unsupported)\n",
      "Note: you may need to restart the kernel to use updated packages.\n"
     ]
    }
   ],
   "source": []
  },
  {
   "cell_type": "code",
   "execution_count": 1,
   "id": "2d909845",
   "metadata": {},
   "outputs": [
    {
     "name": "stdout",
     "output_type": "stream",
     "text": [
      "Collecting psycopg2\n",
      "  Downloading psycopg2-2.9.3-cp38-cp38-win_amd64.whl (1.1 MB)\n",
      "Installing collected packages: psycopg2\n",
      "Successfully installed psycopg2-2.9.3\n",
      "Note: you may need to restart the kernel to use updated packages.\n"
     ]
    }
   ],
   "source": []
  },
  {
   "cell_type": "code",
   "execution_count": 2,
   "id": "41a95539",
   "metadata": {},
   "outputs": [],
   "source": [
    "names = ['pedro','austin', 'juan']"
   ]
  },
  {
   "cell_type": "code",
   "execution_count": 27,
   "id": "0de49083",
   "metadata": {},
   "outputs": [],
   "source": [
    "csver(sys.argv)\n"
   ]
  },
  {
   "cell_type": "code",
   "execution_count": null,
   "id": "3cf85b1b",
   "metadata": {},
   "outputs": [],
   "source": [
    "csver(names)"
   ]
  },
  {
   "cell_type": "code",
   "execution_count": 4,
   "id": "01874278",
   "metadata": {},
   "outputs": [],
   "source": [
    "client2 = b3.client('s3')"
   ]
  },
  {
   "cell_type": "code",
   "execution_count": 5,
   "id": "4d18d4a8",
   "metadata": {},
   "outputs": [
    {
     "data": {
      "text/plain": [
       "{'ResponseMetadata': {'RequestId': 'DQVF0P1VNQEFFWJJ',\n",
       "  'HostId': '8ducK1ADT1QxHYB2tGy7ce0F85v/f7e5Jh+0WoA55Exoj4ZyLXVLBvl2va0h/Y3mazzFPXmaKvM=',\n",
       "  'HTTPStatusCode': 200,\n",
       "  'HTTPHeaders': {'x-amz-id-2': '8ducK1ADT1QxHYB2tGy7ce0F85v/f7e5Jh+0WoA55Exoj4ZyLXVLBvl2va0h/Y3mazzFPXmaKvM=',\n",
       "   'x-amz-request-id': 'DQVF0P1VNQEFFWJJ',\n",
       "   'date': 'Mon, 18 Apr 2022 16:43:32 GMT',\n",
       "   'location': '/namenatbucketfinal',\n",
       "   'server': 'AmazonS3',\n",
       "   'content-length': '0'},\n",
       "  'RetryAttempts': 0},\n",
       " 'Location': '/namenatbucketfinal'}"
      ]
     },
     "execution_count": 5,
     "metadata": {},
     "output_type": "execute_result"
    }
   ],
   "source": [
    "client2.create_bucket(Bucket = 'yetanothercorrupteds3')"
   ]
  },
  {
   "cell_type": "code",
   "execution_count": 6,
   "id": "c2d5d651",
   "metadata": {},
   "outputs": [
    {
     "name": "stdout",
     "output_type": "stream",
     "text": [
      "None\n"
     ]
    }
   ],
   "source": [
    "def upload_file(file_name, bucket, object_name=None, args=None):\n",
    "    if object_name is None:\n",
    "        object_name = file_name\n",
    "    response = client2.upload_file(file_name, bucket, object_name, ExtraArgs = args)\n",
    "    \n",
    "    print(response)\n",
    "upload_file('spotname', 'yetanothercorrupteds3')"
   ]
  },
  {
   "cell_type": "code",
   "execution_count": 8,
   "id": "e49a04be",
   "metadata": {},
   "outputs": [
    {
     "ename": "AttributeError",
     "evalue": "'RDS' object has no attribute 'upload_file'",
     "output_type": "error",
     "traceback": [
      "\u001b[1;31m---------------------------------------------------------------------------\u001b[0m",
      "\u001b[1;31mAttributeError\u001b[0m                            Traceback (most recent call last)",
      "\u001b[1;32m<ipython-input-8-b9087064fd64>\u001b[0m in \u001b[0;36m<module>\u001b[1;34m\u001b[0m\n\u001b[0;32m     20\u001b[0m \u001b[1;33m\u001b[0m\u001b[0m\n\u001b[0;32m     21\u001b[0m     \u001b[0mprint\u001b[0m\u001b[1;33m(\u001b[0m\u001b[0mresponse\u001b[0m\u001b[1;33m)\u001b[0m\u001b[1;33m\u001b[0m\u001b[1;33m\u001b[0m\u001b[0m\n\u001b[1;32m---> 22\u001b[1;33m \u001b[0mupload_s3_to_rds\u001b[0m\u001b[1;33m(\u001b[0m\u001b[1;34m'spotname'\u001b[0m\u001b[1;33m,\u001b[0m \u001b[1;34m'namenat'\u001b[0m\u001b[1;33m)\u001b[0m\u001b[1;33m\u001b[0m\u001b[1;33m\u001b[0m\u001b[0m\n\u001b[0m",
      "\u001b[1;32m<ipython-input-8-b9087064fd64>\u001b[0m in \u001b[0;36mupload_s3_to_rds\u001b[1;34m(file_name, bucket, object_name, args)\u001b[0m\n\u001b[0;32m     17\u001b[0m     \u001b[1;32mif\u001b[0m \u001b[0mobject_name\u001b[0m \u001b[1;32mis\u001b[0m \u001b[1;32mNone\u001b[0m\u001b[1;33m:\u001b[0m\u001b[1;33m\u001b[0m\u001b[1;33m\u001b[0m\u001b[0m\n\u001b[0;32m     18\u001b[0m         \u001b[0mobject_name\u001b[0m \u001b[1;33m=\u001b[0m \u001b[0mfile_name\u001b[0m\u001b[1;33m\u001b[0m\u001b[1;33m\u001b[0m\u001b[0m\n\u001b[1;32m---> 19\u001b[1;33m     \u001b[0mresponse\u001b[0m \u001b[1;33m=\u001b[0m \u001b[0mclient\u001b[0m\u001b[1;33m.\u001b[0m\u001b[0mupload_file\u001b[0m\u001b[1;33m(\u001b[0m\u001b[0mfile_name\u001b[0m\u001b[1;33m,\u001b[0m \u001b[0mbucket\u001b[0m\u001b[1;33m,\u001b[0m \u001b[0mobject_name\u001b[0m\u001b[1;33m,\u001b[0m \u001b[0mExtraArgs\u001b[0m \u001b[1;33m=\u001b[0m \u001b[0margs\u001b[0m\u001b[1;33m)\u001b[0m\u001b[1;33m\u001b[0m\u001b[1;33m\u001b[0m\u001b[0m\n\u001b[0m\u001b[0;32m     20\u001b[0m \u001b[1;33m\u001b[0m\u001b[0m\n\u001b[0;32m     21\u001b[0m     \u001b[0mprint\u001b[0m\u001b[1;33m(\u001b[0m\u001b[0mresponse\u001b[0m\u001b[1;33m)\u001b[0m\u001b[1;33m\u001b[0m\u001b[1;33m\u001b[0m\u001b[0m\n",
      "\u001b[1;32m~\\anaconda3\\lib\\site-packages\\botocore\\client.py\u001b[0m in \u001b[0;36m__getattr__\u001b[1;34m(self, item)\u001b[0m\n\u001b[0;32m    665\u001b[0m             \u001b[1;32mreturn\u001b[0m \u001b[0mevent_response\u001b[0m\u001b[1;33m\u001b[0m\u001b[1;33m\u001b[0m\u001b[0m\n\u001b[0;32m    666\u001b[0m \u001b[1;33m\u001b[0m\u001b[0m\n\u001b[1;32m--> 667\u001b[1;33m         raise AttributeError(\n\u001b[0m\u001b[0;32m    668\u001b[0m             \"'%s' object has no attribute '%s'\" % (\n\u001b[0;32m    669\u001b[0m                 self.__class__.__name__, item)\n",
      "\u001b[1;31mAttributeError\u001b[0m: 'RDS' object has no attribute 'upload_file'"
     ]
    }
   ],
   "source": [
    "import os \n",
    "import psycopg2\n",
    "\n",
    "ENDPOINT=\"database-namenat.c22yogzvdlpd.us-east-1.rds.amazonaws.com\"\n",
    "PORT=\"5432\"\n",
    "USR=\"postgres\"\n",
    "REGION=\"us-east-1\"\n",
    "os.environ['LIBMYSQL_ENABLE_CLEARTEXT_PLUGIN'] = '1'\n",
    "session = b3.Session(profile_name='default')\n",
    "client = b3.client('rds',region_name=REGION)\n",
    "#token = client.generate_db_auth_token(DBHostname=ENDPOINT, Port=PORT, DBUsername=USR, Region=REGION)\n",
    "\n",
    "\n",
    "conn = psycopg2.connect(host=ENDPOINT, port=PORT, user=USR, password='Leviathan2020!')\n",
    "\n",
    "def upload_s3_to_rds(file_name, bucket, object_name=None, args=None):\n",
    "    if object_name is None:\n",
    "        object_name = file_name\n",
    "    response = client.upload_file(file_name, bucket, object_name, ExtraArgs = args)\n",
    "    \n",
    "    print(response)\n",
    "upload_s3_to_rds('spotname', 'namenat')"
   ]
  },
  {
   "cell_type": "code",
   "execution_count": null,
   "id": "dc0c92b0",
   "metadata": {},
   "outputs": [],
   "source": [
    "import urllib.parse\n",
    "import pyodbc\n",
    "\n",
    "print('Loading function')\n",
    "\n",
    "s3 = boto3.client('s3')\n",
    "\n",
    "\n",
    "def lambda_handler(event, context):\n",
    "    #print(\"Received event: \" + json.dumps(event, indent=2))\n",
    "\n",
    "    # Get the object from the event and show its content type\n",
    "    bucket = event['Records'][0]['s3']['bucket']['name']\n",
    "    key = urllib.parse.unquote_plus(event['Records'][0]['s3']['object']['key'], encoding='utf-8')\n",
    "    try:\n",
    "        response = s3.get_object(Bucket=bucket, Key=key)\n",
    "    except Exception as e:\n",
    "        print(e)\n",
    "        print('Error getting object {} from bucket {}. Make sure they exist and your bucket is in the same region as this function.'.format(key, bucket))\n",
    "        raise e\n",
    "    \n",
    "    # insert data from csv file into dataframe.\n",
    "    # working directory for csv file: type \"pwd\" in Azure Data Studio or Linux\n",
    "    # working directory in Windows c:\\users\\username\n",
    "    df = pd.read_csv(response)\n",
    "    # Some other example server values are\n",
    "    # server = 'localhost\\sqlexpress' # for a named instance\n",
    "    # server = 'myserver,port' # to specify an alternate port\n",
    "    server = 'database-namenat.c22yogzvdlpd.us-east-1.rds.amazonaws.com' \n",
    "    database = 'database-namenat' \n",
    "    username = 'postgres' \n",
    "    password = 'Leviathan2020!' \n",
    "    cnxn = pyodbc.connect('DRIVER={SQL Server};SERVER='+server+';DATABASE='+database+';UID='+username+';PWD='+ password)\n",
    "    cursor = cnxn.cursor()\n",
    "    # Insert Dataframe into SQL Server:\n",
    "    for index, row in df.iterrows():\n",
    "         cursor.execute(\"INSERT INTO database-namenat.natprob (name,country_code,probability) values(?,?,?)\", row.name, row.country_code, row.probability)\n",
    "    cnxn.commit()\n",
    "    cursor.close()"
   ]
  },
  {
   "cell_type": "code",
   "execution_count": 16,
   "id": "3a21e976",
   "metadata": {},
   "outputs": [
    {
     "data": {
      "text/plain": [
       "'C:\\\\Users\\\\ahapp\\\\anaconda3\\\\lib\\\\site-packages\\\\pandas\\\\__init__.py'"
      ]
     },
     "execution_count": 16,
     "metadata": {},
     "output_type": "execute_result"
    }
   ],
   "source": [
    "pdfile = pd.__file__\n",
    "pdfile"
   ]
  },
  {
   "cell_type": "code",
   "execution_count": null,
   "id": "b5489873",
   "metadata": {},
   "outputs": [],
   "source": []
  }
 ],
 "metadata": {
  "kernelspec": {
   "display_name": "Python 3",
   "language": "python",
   "name": "python3"
  },
  "language_info": {
   "codemirror_mode": {
    "name": "ipython",
    "version": 3
   },
   "file_extension": ".py",
   "mimetype": "text/x-python",
   "name": "python",
   "nbconvert_exporter": "python",
   "pygments_lexer": "ipython3",
   "version": "3.8.8"
  }
 },
 "nbformat": 4,
 "nbformat_minor": 5
}
